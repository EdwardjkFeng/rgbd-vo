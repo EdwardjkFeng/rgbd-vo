{
 "cells": [
  {
   "cell_type": "code",
   "execution_count": null,
   "metadata": {},
   "outputs": [],
   "source": [
    "import torch\n",
    "import numpy as np\n",
    "\n",
    "# Dummy gradient array of shape (height, width, 2)\n",
    "# where grad[:, :, 0] would represent the x-component of the gradient\n",
    "# and grad[:, :, 1] would represent the y-component\n",
    "grad = torch.tensor([[[1.0, 2.0], [2.0, 1.0]],\n",
    "                     [[-1.0, -2.0], [-2.0, -1.0]]])\n",
    "\n",
    "# Creating Filters\n",
    "filters = torch.arange(9).reshape(3, 3)[None] == torch.arange(9)[:, None, None]\n",
    "print(\"Filters Before Reordering:\\n\", filters.float())\n",
    "\n",
    "# Reordering Filters\n",
    "filters = torch.stack([filters[i] for i in [5, 8, 7, 6, 3, 0, 1, 2]]).float()\n",
    "print(\"Filters After Reordering:\\n\", filters)\n",
    "\n",
    "# Gradient Angles\n",
    "gdangle = torch.atan2(-grad[:, :, 1], -grad[:, :, 0])\n",
    "print(\"Gradient Angles (radians):\\n\", gdangle)\n",
    "\n",
    "# Binned Angles\n",
    "binned = (gdangle * 180 / np.pi % 360) / 45\n",
    "print(\"Binned Angles:\\n\", binned)\n",
    "\n",
    "# Probability Calculation\n",
    "prob = torch.clamp(1 - torch.abs(binned - torch.arange(9)[:, None, None]), min=0)\n",
    "print(\"Probabilities Before Adjustment:\\n\", prob)\n",
    "\n",
    "# Prob[0] Adjustment\n",
    "prob[0] = torch.max(prob[0], prob[-1])\n",
    "prob = prob[:-1]\n",
    "print(\"Probabilities After Adjustment:\\n\", prob)\n"
   ]
  },
  {
   "cell_type": "code",
   "execution_count": null,
   "metadata": {},
   "outputs": [],
   "source": []
  },
  {
   "cell_type": "code",
   "execution_count": null,
   "metadata": {},
   "outputs": [],
   "source": [
    "import torch\n",
    "import numpy as np\n",
    "\n",
    "from transforms3d import quaternions\n",
    "from lietorch import SE3"
   ]
  },
  {
   "cell_type": "code",
   "execution_count": null,
   "metadata": {},
   "outputs": [],
   "source": [
    "def tq2mat(tq):\n",
    "    \"\"\" Transform translation-quaternion (tq) to (4x4) matrix. \"\"\"\n",
    "    tq = np.array(tq)\n",
    "    T = np.eye(4)\n",
    "    T[:3, :3] = quaternions.quat2mat(np.roll(tq[3:], 1))\n",
    "    T[:3, 3] = tq[:3]\n",
    "    return T\n"
   ]
  },
  {
   "cell_type": "code",
   "execution_count": null,
   "metadata": {},
   "outputs": [],
   "source": [
    "def lietorch_tq2mat(tq):\n",
    "    tq = torch.from_numpy(np.array(tq)).view(1, 7)\n",
    "    T = SE3.InitFromVec(tq)\n",
    "    return T\n",
    "    "
   ]
  },
  {
   "cell_type": "code",
   "execution_count": null,
   "metadata": {},
   "outputs": [],
   "source": [
    "tq = [1.1622, 0.6244, 1.4513, 0.6675, 0.6291, -0.2670, -0.2957]"
   ]
  },
  {
   "cell_type": "code",
   "execution_count": null,
   "metadata": {},
   "outputs": [],
   "source": [
    "T = tq2mat(tq)\n",
    "print(T)\n",
    "\n",
    "T_lie = lietorch_tq2mat(tq)\n",
    "print(T_lie.matrix())\n",
    "\n",
    "print('difference: {}'.format((T - T_lie.matrix().numpy()).sum()))"
   ]
  },
  {
   "cell_type": "code",
   "execution_count": null,
   "metadata": {},
   "outputs": [],
   "source": []
  },
  {
   "cell_type": "code",
   "execution_count": null,
   "metadata": {},
   "outputs": [],
   "source": [
    "import open3d as o3d\n",
    "import numpy as np\n",
    "\n",
    "# Initialize Open3D visualization\n",
    "vis = o3d.visualization.Visualizer()\n",
    "vis.create_window()\n",
    "\n",
    "# Initialize point cloud and camera pose (as a 4x4 transformation matrix)\n",
    "point_cloud = o3d.geometry.PointCloud()\n",
    "camera_pose = np.eye(4)\n",
    "\n",
    "# Add initial point cloud and camera pose to the visualizer\n",
    "vis.add_geometry(point_cloud)\n",
    "\n",
    "# Set some visualization settings\n",
    "render_option = vis.get_render_option()\n",
    "render_option.point_size = 2.0  # example setting, you can customize this\n",
    "\n",
    "# Define a callback function\n",
    "def update_visualization(vis):\n",
    "    global point_cloud, camera_pose\n",
    "    \n",
    "    # Simulate updated data from your visual odometry algorithm\n",
    "    new_points = np.random.rand(100, 3)  # Replace this with the updated point cloud from your algorithm\n",
    "    new_pose = np.eye(4)  # Replace this with the updated camera pose from your algorithm\n",
    "    new_pose[0, 3] = np.random.rand()  # Simulate some translation in x-direction\n",
    "    \n",
    "    # Update point cloud data\n",
    "    point_cloud.points = o3d.utility.Vector3dVector(new_points)\n",
    "    \n",
    "    # Update camera pose\n",
    "    camera_pose = np.dot(camera_pose, np.linalg.inv(new_pose))\n",
    "    \n",
    "    # Update the camera view\n",
    "    ctr = vis.get_view_control()\n",
    "    cam = ctr.convert_to_pinhole_camera_parameters()\n",
    "    cam.extrinsic = camera_pose\n",
    "    ctr.convert_from_pinhole_camera_parameters(cam)\n",
    "    \n",
    "    return False\n",
    "\n",
    "# Run the callback function in a loop\n",
    "for i in range(100):  # Run the loop 100 times\n",
    "    update_visualization(vis)\n",
    "    vis.update_geometry(point_cloud)\n",
    "    vis.poll_events()\n",
    "    vis.update_renderer()\n",
    "\n",
    "# Close the visualization\n",
    "vis.run()\n",
    "vis.destroy_window()"
   ]
  },
  {
   "cell_type": "code",
   "execution_count": null,
   "metadata": {},
   "outputs": [],
   "source": []
  },
  {
   "cell_type": "code",
   "execution_count": 8,
   "metadata": {},
   "outputs": [
    {
     "name": "stdout",
     "output_type": "stream",
     "text": [
      "1\n"
     ]
    }
   ],
   "source": [
    "import numpy as np\n",
    "\n",
    "acc_ids = [0, 3, 100]\n",
    "index = 3\n",
    "print(max(np.searchsorted(acc_ids, index+1) - 1, 0))"
   ]
  },
  {
   "cell_type": "code",
   "execution_count": 1,
   "metadata": {},
   "outputs": [
    {
     "name": "stdout",
     "output_type": "stream",
     "text": [
      "(200, 300) (1, 200, 300)\n"
     ]
    }
   ],
   "source": [
    "import numpy as np\n",
    "\n",
    "a = np.random.rand(200, 300)\n",
    "print(a.shape, a[np.newaxis, :].shape)"
   ]
  },
  {
   "cell_type": "code",
   "execution_count": null,
   "metadata": {},
   "outputs": [],
   "source": []
  },
  {
   "cell_type": "code",
   "execution_count": null,
   "metadata": {},
   "outputs": [],
   "source": []
  },
  {
   "cell_type": "code",
   "execution_count": null,
   "metadata": {},
   "outputs": [],
   "source": []
  },
  {
   "cell_type": "code",
   "execution_count": 5,
   "metadata": {},
   "outputs": [
    {
     "name": "stdout",
     "output_type": "stream",
     "text": [
      "2\n",
      "(tensor([[-2., -2., -2., -2., -2.],\n",
      "        [-1., -1., -1., -1., -1.],\n",
      "        [ 0.,  0.,  0.,  0.,  0.],\n",
      "        [ 1.,  1.,  1.,  1.,  1.],\n",
      "        [ 2.,  2.,  2.,  2.,  2.]]), tensor([[-2., -1.,  0.,  1.,  2.],\n",
      "        [-2., -1.,  0.,  1.,  2.],\n",
      "        [-2., -1.,  0.,  1.,  2.],\n",
      "        [-2., -1.,  0.,  1.,  2.],\n",
      "        [-2., -1.,  0.,  1.,  2.]]))\n"
     ]
    }
   ],
   "source": [
    "import torch\n",
    "\n",
    "n = 5\n",
    "print(n//2)\n",
    "neighborhood = torch.meshgrid(\n",
    "        torch.arange(-(n//2), (n//2)+1).float(),\n",
    "        torch.arange(-(n//2), (n//2)+1).float()\n",
    "    )\n",
    "print(neighborhood)"
   ]
  },
  {
   "cell_type": "code",
   "execution_count": 7,
   "metadata": {},
   "outputs": [
    {
     "name": "stdout",
     "output_type": "stream",
     "text": [
      "0\n"
     ]
    }
   ],
   "source": [
    "a = torch.zeros((2, 2))\n",
    "a = torch.Tensor([])\n",
    "print(a.nelement())"
   ]
  },
  {
   "cell_type": "code",
   "execution_count": 11,
   "metadata": {},
   "outputs": [
    {
     "name": "stdout",
     "output_type": "stream",
     "text": [
      "12 16\n",
      "torch.Size([3, 1, 12, 16])\n"
     ]
    }
   ],
   "source": [
    "a = torch.rand((3, 1, 12, 16))\n",
    "h, w = a.shape[2:]\n",
    "print(h, w)\n",
    "c = torch.rand((3, 1))[..., None, None]\n",
    "y, x = torch.meshgrid(\n",
    "        torch.arange(h),\n",
    "        torch.arange(w))\n",
    "\n",
    "x = x - c\n",
    "y = y - c\n",
    "p = torch.stack([x, y, a], dim=-1)\n",
    "print(a.shape)"
   ]
  },
  {
   "cell_type": "code",
   "execution_count": 28,
   "metadata": {},
   "outputs": [
    {
     "name": "stdout",
     "output_type": "stream",
     "text": [
      "tensor([[-1.9168, -2.9213, -0.1774, -0.5586, -0.4666,  0.5055, -2.3070],\n",
      "        [ 0.6641,  1.2612, -0.6778, -0.6633, -0.2532,  0.1366, -0.0294],\n",
      "        [ 0.0081, -1.6798, -0.6679, -0.1320, -0.7448,  0.1356, -0.3184],\n",
      "        [ 1.0681,  1.4154,  1.3340, -1.7683, -1.3022, -0.2429,  0.1500]],\n",
      "       device='cuda:0', requires_grad=True)\n",
      "tensor([[[ 0.8450,  0.4672,  0.2600, -1.9168],\n",
      "         [-0.2965,  0.8141, -0.4993, -2.9213],\n",
      "         [-0.4450,  0.3448,  0.8265, -0.1774],\n",
      "         [ 0.0000,  0.0000,  0.0000,  1.0000]],\n",
      "\n",
      "        [[ 0.6839,  0.6568, -0.3176,  0.6641],\n",
      "         [ 0.6261, -0.7518, -0.2066,  1.2612],\n",
      "         [-0.3745, -0.0576, -0.9254, -0.6778],\n",
      "         [ 0.0000,  0.0000,  0.0000,  1.0000]],\n",
      "\n",
      "        [[-0.6566,  0.4090,  0.6337,  0.0081],\n",
      "         [ 0.1593,  0.8965, -0.4135, -1.6798],\n",
      "         [-0.7372, -0.1706, -0.6538, -0.6679],\n",
      "         [ 0.0000,  0.0000,  0.0000,  1.0000]],\n",
      "\n",
      "        [[ 0.2843,  0.9540,  0.0955,  1.0681],\n",
      "         [ 0.9242, -0.2992,  0.2371,  1.4154],\n",
      "         [ 0.2548,  0.0208, -0.9668,  1.3340],\n",
      "         [ 0.0000,  0.0000,  0.0000,  1.0000]]], device='cuda:0',\n",
      "       grad_fn=<TransposeBackward0>)\n",
      "tensor([[-1.9168, -2.9213, -0.1774, -0.5586, -0.4666,  0.5055, -2.3070],\n",
      "        [ 0.6641,  1.2612, -0.6778, -0.6633, -0.2532,  0.1366, -0.0294],\n",
      "        [ 0.0081, -1.6798, -0.6679, -0.1320, -0.7448,  0.1356, -0.3184],\n",
      "        [ 1.0681,  1.4154,  1.3340, -1.7683, -1.3022, -0.2429,  0.1500]],\n",
      "       device='cuda:0', grad_fn=<ViewBackward0>)\n"
     ]
    }
   ],
   "source": [
    "from lietorch import SO3, SE3\n",
    "\n",
    "a = torch.randn(4, 7, device='cuda', requires_grad=True)\n",
    "print(a)\n",
    "R = SE3.InitFromVec(a)\n",
    "print(R.matrix())\n",
    "print(R.vec())\n",
    "\n",
    "point = torch.randn(4, 90, 3, device='cuda')\n",
    "a  = R[:, None].act(point)"
   ]
  },
  {
   "cell_type": "code",
   "execution_count": null,
   "metadata": {},
   "outputs": [],
   "source": []
  }
 ],
 "metadata": {
  "kernelspec": {
   "display_name": "dynamicslam",
   "language": "python",
   "name": "python3"
  },
  "language_info": {
   "codemirror_mode": {
    "name": "ipython",
    "version": 3
   },
   "file_extension": ".py",
   "mimetype": "text/x-python",
   "name": "python",
   "nbconvert_exporter": "python",
   "pygments_lexer": "ipython3",
   "version": "3.10.8"
  },
  "orig_nbformat": 4
 },
 "nbformat": 4,
 "nbformat_minor": 2
}
